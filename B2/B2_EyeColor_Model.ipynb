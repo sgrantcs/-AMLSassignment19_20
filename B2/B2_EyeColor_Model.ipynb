{
 "cells": [
  {
   "cell_type": "code",
   "execution_count": 1,
   "metadata": {},
   "outputs": [
    {
     "name": "stderr",
     "output_type": "stream",
     "text": [
      "Using TensorFlow backend.\n"
     ]
    }
   ],
   "source": [
    "import cv2\n",
    "import dlib\n",
    "import os\n",
    "import csv\n",
    "import numpy as np\n",
    "from sklearn.metrics import classification_report,accuracy_score\n",
    "from sklearn.model_selection import train_test_split\n",
    "from sklearn import svm\n",
    "from sklearn.svm import SVC\n",
    "from keras.preprocessing import image"
   ]
  },
  {
   "cell_type": "code",
   "execution_count": 2,
   "metadata": {},
   "outputs": [],
   "source": [
    "# PATH TO ALL IMAGES\n",
    "#basedir, image_paths\n",
    "basedir = '../Datasets/cartoon_set'\n",
    "images_dir = os.path.join(basedir,'img')\n",
    "labels_filename = 'labels.csv'"
   ]
  },
  {
   "cell_type": "code",
   "execution_count": null,
   "metadata": {},
   "outputs": [],
   "source": []
  },
  {
   "cell_type": "code",
   "execution_count": null,
   "metadata": {},
   "outputs": [],
   "source": [
    "#Use Hough Transform to find eye circles in an image\n",
    "def detect_eye(image_file)\n",
    "    # Read image as gray-scale\n",
    "    img = cv2.imread('2.png', cv2.IMREAD_COLOR)\n",
    "    # Convert to gray-scale\n",
    "    gray = cv2.cvtColor(img, cv2.COLOR_BGR2GRAY)\n",
    "    #test\n",
    "    # Blur the image to reduce noise\n",
    "    img_blur = cv2.medianBlur(gray, 5)\n",
    "    # Apply hough transform on the image\n",
    "    circles = cv2.HoughCircles(img_blur, cv2.HOUGH_GRADIENT, 1, img.shape[0]/2, param1=200, param2=10, minRadius=15, maxRadius=20)\n",
    "    # Draw detected circles\n",
    "    detected_eye = circles\n",
    "    if circles is not None: \n",
    "        # Extract eyes\n",
    "            for (x, y, r) in detected_eye: #get coordinates and size of a circle containing an eye\n",
    "                #print(f\"eyes found in file: {image_file}\") \n",
    "                gray = gray[y:y+r, x:x+r] #Cut the frame to size\n",
    "\n",
    "    #Draws circles around the eye  - FOR TEST ONLY, NOT NEEDED FOR THE MODEL          \n",
    "    if circles is not None:\n",
    "        circles = np.uint16(np.around(circles))\n",
    "        for i in circles[0, :]:\n",
    "            # Draw outer circle\n",
    "            cv2.circle(img, (i[0], i[1]), i[2], (0, 255, 0), 2)\n",
    "            # Draw inner circle\n",
    "            cv2.circle(img, (i[0], i[1]), 2, (0, 0, 255), 3)\n",
    "    cv2.imshow('3', img)\n",
    "    cv2.waitKey(0)"
   ]
  },
  {
   "cell_type": "code",
   "execution_count": 40,
   "metadata": {},
   "outputs": [
    {
     "data": {
      "text/plain": [
       "-1"
      ]
     },
     "execution_count": 40,
     "metadata": {},
     "output_type": "execute_result"
    }
   ],
   "source": [
    "#create a function converting colours into hues. \n",
    "#these are already hues\n",
    "BLUE = 137\n",
    "GREEN = 57\n",
    "BROWN = 11\n",
    "BLACK = 160\n",
    "GREY = 110\n",
    "\n",
    "color = GREEN\n",
    "hue = color // 2\n",
    "\n",
    "lower_range = np.array([max(0, hue - 10), 0, 0], dtype=np.uint8)\n",
    "upper_range = np.array([min(59, hue + 10), 255, 255], dtype=np.uint8)\n",
    "\n",
    "#convert images into HSV\n",
    "img = cv2.imread(\"3.png\")\n",
    "img_hsv = cv2.cvtColor(img, cv2.COLOR_BGR2HSV)\n",
    "\n",
    "#Apply mask to HSV images, and then save images \n",
    "mask = cv2.inRange(img_hsv, lower_range, upper_range)\n",
    "\n",
    "binary_img = cv2.bitwise_and(img_hsv, img_hsv, mask=mask)\n",
    "binary_img = cv2.cvtColor(binary_img, cv2.COLOR_BGR2GRAY)\n",
    "#_, binary_img = cv2.threshold(binary_img, 127, 255, cv2.THRESH_BINARY)\n",
    "\n",
    "cv2.imshow('3', binary_img)\n",
    "cv2.waitKey(0)"
   ]
  },
  {
   "cell_type": "code",
   "execution_count": 39,
   "metadata": {},
   "outputs": [
    {
     "data": {
      "text/plain": [
       "-1"
      ]
     },
     "execution_count": 39,
     "metadata": {},
     "output_type": "execute_result"
    }
   ],
   "source": [
    "def extract_features_labels():\n",
    "    \"\"\"\n",
    "    This function extracts the eye color features for all images in the folder 'Datasets/cartoon_set'.\n",
    "    It also extracts the color label for each image and returns:\n",
    "        HSV_features:  an array containing 3 points for each eye circle that was detected\n",
    "        shape_labels:      an array containing 5 face shape labels (0,1,2,3,4) for each image in\n",
    "                            which a face was detected\n",
    "    \"\"\"\n",
    "    image_paths = [os.path.join(images_dir, l) for l in os.listdir(images_dir)]\n",
    "    target_size = None\n",
    "    #shape labels from eye_color column [1] in the labels file\n",
    "    labels_file = open(os.path.join(basedir, labels_filename), 'r')\n",
    "    lines = labels_file.readlines()\n",
    "    shape_labels = dict()\n",
    "    for line in lines[1:]:\n",
    "        columns = line.split('\\t')\n",
    "        shape_labels[columns[0]] = int(columns[1])\n",
    "    \n",
    "    if os.path.isdir(images_dir):\n",
    "        all_features = []\n",
    "        all_labels = []\n",
    "        for img_path in image_paths:\n",
    "            #print(image_path)\n",
    "            file_name = img_path.split('.')[1].split('\\\\')[-1]\n",
    "            #print(file_name)\n",
    "\n",
    "            # load image\n",
    "            img = image.img_to_array(\n",
    "                image.load_img(img_path,\n",
    "                               target_size=target_size,\n",
    "                               interpolation='bicubic'))\n",
    "                        \n",
    "            #TODO: set up features taken from a new function: features, _ = run_dlib_shape(img)\n",
    "            \n",
    "            if features is not None:\n",
    "                all_features.append(features)\n",
    "                all_labels.append(shape_labels[file_name])\n",
    "\n",
    "    #TODO: amend the following based on the new function: landmark_features = np.array(all_features)\n",
    "    shape_labels = (np.array(all_labels)) # keeps the 5 eye color labels, 0, 1, 2, 3 and 4\n",
    "    return landmark_features, shape_labels"
   ]
  },
  {
   "cell_type": "code",
   "execution_count": null,
   "metadata": {},
   "outputs": [],
   "source": [
    "def get_data():\n",
    "\n",
    "    X, Y = extract_features_labels()\n",
    "    Y = np.array([Y, -(Y - 1)]).T\n",
    "    # Split into a training set and a test set using a stratified k fold\n",
    "    # Split into a training and testing set\n",
    "\n",
    "    X_train, X_test, Y_train, Y_test = train_test_split(X, Y, test_size=0.25, random_state=0)\n",
    "    return X_train, Y_train, X_test, Y_test\n",
    "# sklearn functions implementation\n",
    "\n",
    "#Set up SVM classifier\n",
    "def img_SVM(training_images, training_labels, test_images, test_labels):\n",
    "    classifier = svm.SVC(kernel='linear', C = 1.0)\n",
    "    classifier.fit(training_images, training_labels)\n",
    "    pred = classifier.predict(test_images)\n",
    "    print(\"Accuracy:\", accuracy_score(test_labels, pred))\n",
    "\n",
    "    #print(pred)\n",
    "    return pred\n",
    "\n",
    "X_train, Y_train, X_test, Y_test = get_data()\n",
    "num_X_test = len(X_test)\n",
    "print(f'num_X_test{num_X_test}')\n",
    "num_X_train = len(X_train)\n",
    "print(f'num_X_train{num_X_train}')#\n",
    "#REDO: the prediction based on the correct number of features in the feature list:\n",
    "\n",
    "pred = img_SVM(X_train.reshape((num_X_train, 68*2)), list(zip(*Y_train))[0], X_test.reshape((num_X_test, 68*2)), list(zip(*Y_test))[0])"
   ]
  },
  {
   "cell_type": "code",
   "execution_count": null,
   "metadata": {},
   "outputs": [],
   "source": []
  },
  {
   "cell_type": "code",
   "execution_count": null,
   "metadata": {},
   "outputs": [],
   "source": []
  }
 ],
 "metadata": {
  "kernelspec": {
   "display_name": "Python 3",
   "language": "python",
   "name": "python3"
  },
  "language_info": {
   "codemirror_mode": {
    "name": "ipython",
    "version": 3
   },
   "file_extension": ".py",
   "mimetype": "text/x-python",
   "name": "python",
   "nbconvert_exporter": "python",
   "pygments_lexer": "ipython3",
   "version": "3.7.4"
  }
 },
 "nbformat": 4,
 "nbformat_minor": 2
}
