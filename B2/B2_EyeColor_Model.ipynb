{
 "cells": [
  {
   "cell_type": "code",
   "execution_count": 7,
   "metadata": {},
   "outputs": [],
   "source": [
    "import cv2\n",
    "import dlib\n",
    "import os\n",
    "import csv\n",
    "import numpy as np\n",
    "from sklearn.metrics import classification_report,accuracy_score\n",
    "from sklearn.model_selection import train_test_split\n",
    "from sklearn import svm\n",
    "from sklearn.svm import SVC\n",
    "from keras.preprocessing import image"
   ]
  },
  {
   "cell_type": "code",
   "execution_count": null,
   "metadata": {},
   "outputs": [],
   "source": [
    "# PATH TO ALL IMAGES\n",
    "#basedir, image_paths\n",
    "basedir = '../Datasets/cartoon_set'\n",
    "images_dir = os.path.join(basedir,'img')\n",
    "labels_filename = 'labels.csv'"
   ]
  },
  {
   "cell_type": "code",
   "execution_count": 9,
   "metadata": {},
   "outputs": [
    {
     "data": {
      "text/plain": [
       "274"
      ]
     },
     "execution_count": 9,
     "metadata": {},
     "output_type": "execute_result"
    }
   ],
   "source": [
    "#Use Hough Transform to find circles in an image\n",
    "# Read image as gray-scale\n",
    "img = cv2.imread('2.png', cv2.IMREAD_COLOR)\n",
    "# Convert to gray-scale\n",
    "gray = cv2.cvtColor(img, cv2.COLOR_BGR2GRAY)\n",
    "# Blur the image to reduce noise\n",
    "img_blur = cv2.medianBlur(gray, 5)\n",
    "# Apply hough transform on the image\n",
    "circles = cv2.HoughCircles(img_blur, cv2.HOUGH_GRADIENT, 1, img.shape[0]/2, param1=200, param2=10, minRadius=15, maxRadius=20)\n",
    "# Draw detected circles\n",
    "if circles is not None:\n",
    "    circles = np.uint16(np.around(circles))\n",
    "    for i in circles[0, :]:\n",
    "        # Draw outer circle\n",
    "        cv2.circle(img, (i[0], i[1]), i[2], (0, 255, 0), 2)\n",
    "        # Draw inner circle\n",
    "        cv2.circle(img, (i[0], i[1]), 2, (0, 0, 255), 3)\n",
    "cv2.imshow('3', img)\n",
    "cv2.waitKey(0)"
   ]
  },
  {
   "cell_type": "code",
   "execution_count": 40,
   "metadata": {},
   "outputs": [
    {
     "data": {
      "text/plain": [
       "-1"
      ]
     },
     "execution_count": 40,
     "metadata": {},
     "output_type": "execute_result"
    }
   ],
   "source": [
    "#create a function converting colours into hues. \n",
    "#these are already hues\n",
    "BLUE = 137\n",
    "GREEN = 57\n",
    "BROWN = 11\n",
    "BLACK = 160\n",
    "GREY = 110\n",
    "\n",
    "color = GREEN\n",
    "hue = color // 2\n",
    "\n",
    "lower_range = np.array([max(0, hue - 10), 0, 0], dtype=np.uint8)\n",
    "upper_range = np.array([min(59, hue + 10), 255, 255], dtype=np.uint8)\n",
    "\n",
    "#convert images into HSV\n",
    "img = cv2.imread(\"3.png\")\n",
    "img_hsv = cv2.cvtColor(img, cv2.COLOR_BGR2HSV)\n",
    "\n",
    "#Apply mask to HSV images, and then save images \n",
    "mask = cv2.inRange(img_hsv, lower_range, upper_range)\n",
    "\n",
    "binary_img = cv2.bitwise_and(img_hsv, img_hsv, mask=mask)\n",
    "binary_img = cv2.cvtColor(binary_img, cv2.COLOR_BGR2GRAY)\n",
    "#_, binary_img = cv2.threshold(binary_img, 127, 255, cv2.THRESH_BINARY)\n",
    "\n",
    "cv2.imshow('3', binary_img)\n",
    "cv2.waitKey(0)"
   ]
  },
  {
   "cell_type": "code",
   "execution_count": 39,
   "metadata": {},
   "outputs": [
    {
     "data": {
      "text/plain": [
       "-1"
      ]
     },
     "execution_count": 39,
     "metadata": {},
     "output_type": "execute_result"
    }
   ],
   "source": []
  },
  {
   "cell_type": "code",
   "execution_count": null,
   "metadata": {},
   "outputs": [],
   "source": []
  },
  {
   "cell_type": "code",
   "execution_count": null,
   "metadata": {},
   "outputs": [],
   "source": []
  },
  {
   "cell_type": "code",
   "execution_count": null,
   "metadata": {},
   "outputs": [],
   "source": []
  }
 ],
 "metadata": {
  "kernelspec": {
   "display_name": "Python 3",
   "language": "python",
   "name": "python3"
  },
  "language_info": {
   "codemirror_mode": {
    "name": "ipython",
    "version": 3
   },
   "file_extension": ".py",
   "mimetype": "text/x-python",
   "name": "python",
   "nbconvert_exporter": "python",
   "pygments_lexer": "ipython3",
   "version": "3.7.4"
  }
 },
 "nbformat": 4,
 "nbformat_minor": 2
}
